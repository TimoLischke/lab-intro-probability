{
 "cells": [
  {
   "cell_type": "markdown",
   "metadata": {},
   "source": [
    "# Lab | Intro to Probability"
   ]
  },
  {
   "cell_type": "markdown",
   "metadata": {},
   "source": [
    "**Objective**\n",
    "\n",
    "Welcome to this Intro to Probability lab, where we explore decision-making scenarios through the lens of probability and strategic analysis. In the business world, making informed decisions is crucial, especially when faced with uncertainties. This lab focuses on scenarios where probabilistic outcomes play a significant role in shaping strategies and outcomes. Students will engage in exercises that require assessing and choosing optimal paths based on data-driven insights. The goal is to enhance your skills by applying probability concepts to solve real-world problems."
   ]
  },
  {
   "cell_type": "markdown",
   "metadata": {},
   "source": [
    "**Challenge 1**"
   ]
  },
  {
   "cell_type": "markdown",
   "metadata": {},
   "source": [
    "#### Ironhack Airlines \n",
    "\n",
    "Often Airlines sell more tickets than they have seats available, this is called overbooking. Consider the following:\n",
    "- A plane has 450 seats. \n",
    "- Based on historical data we conclude that each individual passenger has a 3% chance of missing it's flight. \n",
    "\n",
    "If the Ironhack Airlines routinely sells 460 tickets, what is the chance that they have a seats for all passenger?"
   ]
  },
  {
   "cell_type": "code",
   "execution_count": 4,
   "metadata": {},
   "outputs": [],
   "source": [
    "import pandas as pd\n",
    "import scipy.stats as st\n",
    "import numpy as np"
   ]
  },
  {
   "cell_type": "code",
   "execution_count": 6,
   "metadata": {},
   "outputs": [
    {
     "name": "stdout",
     "output_type": "stream",
     "text": [
      "The probability that all passengers get a seat is: 0.8505\n"
     ]
    }
   ],
   "source": [
    "# A plane has 450 seats.\n",
    "# Based on historical data we conclude that each individual passenger has a 3% chance of missing it's flight.\n",
    "# If the Ironhack Airlines routinely sells 460 tickets, what is the chance that they have a seats for all passenger?\n",
    "\n",
    "# define the parameters\n",
    "n = 460  # total tickets sold\n",
    "p = 0.97  # probability a passenger shows up is 3%\n",
    "seats = 450  # available seats per plane\n",
    "\n",
    "# normal approximation parameters\n",
    "mu = n * p  # Mean of the binomial distribution\n",
    "sigma = np.sqrt(n * p * (1 - p))  # Standard deviation\n",
    "\n",
    "# compute probability P (X ≤ 450)\n",
    "probability = st.norm.cdf(seats, mu, sigma)\n",
    "\n",
    "print(f\"The probability that all passengers get a seat is: {probability:.4f}\")"
   ]
  },
  {
   "cell_type": "markdown",
   "metadata": {},
   "source": [
    "**Challenge 2**"
   ]
  },
  {
   "cell_type": "markdown",
   "metadata": {},
   "source": [
    "#### Ironhack Call Center "
   ]
  },
  {
   "cell_type": "markdown",
   "metadata": {},
   "source": [
    "Suppose a customer service representative at a call center is handling customer complaints. Consider the following:\n",
    "- The probability of successfully resolving a customer complaint on the first attempt is 0.3. \n",
    "\n",
    "\n",
    "What is the probability that the representative needs to make at least three attempts before successfully resolving a customer complaint?"
   ]
  },
  {
   "cell_type": "code",
   "execution_count": 10,
   "metadata": {},
   "outputs": [
    {
     "name": "stdout",
     "output_type": "stream",
     "text": [
      "Analytical probability of resolving a customer complaint after at least three attempts: 0.4900\n",
      "Simulated probability of resolving a customer complaint after at least three attempts: 0.4899\n"
     ]
    }
   ],
   "source": [
    "# The probability for a a customer service representative at a call center, who is handling customer complaints, \n",
    "# of successfully resolving a customer complaint on the first attempt is 0.3.\n",
    "# What is the probability that the representative needs to make at least three attempts before successfully resolving a customer complaint?\n",
    "\n",
    "# direct computation of probability\n",
    "p = 0.3\n",
    "q = 1 - p\n",
    "probability_at_least_3 = q**2  # (0.7)^2\n",
    "\n",
    "# geometric distribution\n",
    "def geometric_trial(p=0.3, num_trials=100000):\n",
    "    count = 0\n",
    "    for _ in range(num_trials):\n",
    "        attempts = 0\n",
    "        while np.random.rand() > p:\n",
    "            attempts += 1\n",
    "        if attempts >= 2:\n",
    "            count += 1\n",
    "    return count / num_trials\n",
    "\n",
    "# Monte Carlo simulation\n",
    "simulated_probability = geometric_trial()\n",
    "\n",
    "print(f\"Analytical probability of resolving a customer complaint after at least three attempts: {probability_at_least_3:.4f}\")\n",
    "print(f\"Simulated probability of resolving a customer complaint after at least three attempts: {simulated_probability:.4f}\")"
   ]
  },
  {
   "cell_type": "markdown",
   "metadata": {},
   "source": [
    "**Challenge 3**"
   ]
  },
  {
   "cell_type": "markdown",
   "metadata": {},
   "source": [
    "#### Ironhack Website"
   ]
  },
  {
   "cell_type": "markdown",
   "metadata": {},
   "source": [
    "Consider a scenario related to Ironhack website traffic. Where:\n",
    "- our website takes on average 500 visits per hour.\n",
    "- the website's server is designed to handle up to 550 vists per hour.\n",
    "\n",
    "\n",
    "What is the probability of the website server being overwhelmed?"
   ]
  },
  {
   "cell_type": "code",
   "execution_count": 12,
   "metadata": {},
   "outputs": [
    {
     "name": "stdout",
     "output_type": "stream",
     "text": [
      "Analytical probability of the website server being overwhelmed: 0.0129\n",
      "Simulated probability of the website server being overwhelmed: 0.0134\n"
     ]
    }
   ],
   "source": [
    "# Consider a scenario related to Ironhack website traffic. \n",
    "# Where: our website takes on average 500 visits per hour.\n",
    "# the website's server is designed to handle up to 550 vists per hour.\n",
    "# What is the probability of the website server being overwhelmed?\n",
    "\n",
    "# direct computation assuming Poisson distribution\n",
    "lambda_val = 500\n",
    "threshold = 550\n",
    "probability_overwhelmed = 1 - st.poisson.cdf(threshold, lambda_val)\n",
    "\n",
    "# simulated probability assuming Poisson distribution\n",
    "def poisson_trial(lam=500, threshold=550, num_trials=100000):\n",
    "    count = 0\n",
    "    for _ in range(num_trials):\n",
    "        visits = np.random.poisson(lam)\n",
    "        if visits > threshold:\n",
    "            count += 1\n",
    "    return count / num_trials\n",
    "\n",
    "# Monte Carlo simulation\n",
    "simulated_probability = poisson_trial()\n",
    "\n",
    "print(f\"Analytical probability of the website server being overwhelmed: {probability_overwhelmed:.4f}\")\n",
    "print(f\"Simulated probability of the website server being overwhelmed: {simulated_probability:.4f}\")"
   ]
  },
  {
   "cell_type": "markdown",
   "metadata": {},
   "source": [
    "What is the probability of being overwhelmed at some point during a day? (consider 24hours)"
   ]
  },
  {
   "cell_type": "code",
   "execution_count": 16,
   "metadata": {},
   "outputs": [
    {
     "name": "stdout",
     "output_type": "stream",
     "text": [
      "Analytical probability of the website server being overwhelmed within 24 hours: 0.2677\n",
      "Simulated probability of the website server being overwhelmed within 24 hours: 0.2693\n"
     ]
    }
   ],
   "source": [
    "# Probability of being overwhelmed at least once in 24 hours - direct computation:\n",
    "probability_overwhelmed_24h = 1 - (1 - probability_overwhelmed) ** 24\n",
    "\n",
    "# Monte Carlo simulation:\n",
    "simulated_probability = poisson_trial()\n",
    "simulated_probability_24h = 1 - (1 - simulated_probability) ** 24\n",
    "\n",
    "print(f\"Analytical probability of the website server being overwhelmed within 24 hours: {probability_overwhelmed_24h:.4f}\")\n",
    "print(f\"Simulated probability of the website server being overwhelmed within 24 hours: {simulated_probability_24h:.4f}\")"
   ]
  },
  {
   "cell_type": "markdown",
   "metadata": {},
   "source": [
    "**Challenge 4**"
   ]
  },
  {
   "cell_type": "markdown",
   "metadata": {},
   "source": [
    "#### Ironhack Helpdesk"
   ]
  },
  {
   "cell_type": "markdown",
   "metadata": {},
   "source": [
    "Consider a scenario related to the time between arrivals of customers at a service desk.\n",
    "\n",
    "On average, a customers arrives every 10minutes.\n",
    "\n",
    "What is the probability that the next customer will arrive within the next 5 minutes?"
   ]
  },
  {
   "cell_type": "code",
   "execution_count": 18,
   "metadata": {},
   "outputs": [
    {
     "name": "stdout",
     "output_type": "stream",
     "text": [
      "The probability that the next customer arrives at the helpdesk within 5 minutes is: 0.3935\n"
     ]
    }
   ],
   "source": [
    "# Consider a scenario related to the time between arrivals of customers at a service helpdesk.\n",
    "# On average, a customers arrives every 10minutes.\n",
    "# What is the probability that the next customer will arrive within the next 5 minutes?\n",
    "\n",
    "import math\n",
    "\n",
    "# given parameters\n",
    "lambda_ = 1 / 10  # rate parameter: one per minute\n",
    "t = 5  # time threshold in minutes\n",
    "\n",
    "# Compute probability using exponential CDF - assuming exponential distribution\n",
    "probability = 1 - math.exp(-lambda_ * t)\n",
    "\n",
    "print(f\"The probability that the next customer arrives at the helpdesk within 5 minutes is: {probability:.4f}\")"
   ]
  },
  {
   "cell_type": "markdown",
   "metadata": {},
   "source": [
    "If there is no customer for 15minutes, employees can that a 5minutes break.\n",
    "\n",
    "What is the probability an employee taking a break?"
   ]
  },
  {
   "cell_type": "code",
   "execution_count": 23,
   "metadata": {},
   "outputs": [
    {
     "name": "stdout",
     "output_type": "stream",
     "text": [
      "Probability that an employee can take a 5min break after 15min of no customer arriving is: 0.6065\n"
     ]
    }
   ],
   "source": [
    "# If there is no customer for 15minutes, employees can take a 5minutes break. \n",
    "# What is the probability an employee taking a break?\n",
    "\n",
    "# given parameters\n",
    "lambda_ = 1 / 10  # arrival rate of customers per minute\n",
    "t = 5  # break duration for employee in minutes\n",
    "\n",
    "# Compute probability using exponential distribution's survival function\n",
    "# Assuming memoryless property of the exponential distribution\n",
    "probability_break = math.exp(-lambda_ * t)\n",
    "\n",
    "print(f\"Probability that an employee can take a 5min break after 15min of no customer arriving is: {probability_break:.4f}\")"
   ]
  },
  {
   "cell_type": "markdown",
   "metadata": {},
   "source": [
    "**Challenge 5**"
   ]
  },
  {
   "cell_type": "markdown",
   "metadata": {},
   "source": [
    "The weights of a certain species of birds follow a normal distribution with a mean weight of 150 grams and a standard deviation of 10 grams. \n",
    "\n",
    "- If we randomly select a bird, what is the probability that its weight is between 140 and 160 grams?"
   ]
  },
  {
   "cell_type": "code",
   "execution_count": 25,
   "metadata": {},
   "outputs": [
    {
     "name": "stdout",
     "output_type": "stream",
     "text": [
      "A randomly selected bird would have the probability of weighing between 140 and 160 grams of: 0.6827\n"
     ]
    }
   ],
   "source": [
    "# The weights of a certain species of birds follow a normal distribution with a mean weight of 150 grams and a standard deviation of 10 grams.\n",
    "# If we randomly select a bird, what is the probability that its weight is between 140 and 160 grams?\n",
    "\n",
    "from scipy.stats import norm\n",
    "\n",
    "# given parameters\n",
    "mean = 150\n",
    "std = 10\n",
    "\n",
    "# Compute probability assuming normal distribution (Gaussian)\n",
    "norm_dist = norm(loc = mean, scale = std)\n",
    "\n",
    "# Probability of bird´s weight being between 140 and 160 grams\n",
    "probability = norm_dist.cdf(160) - norm_dist.cdf(140)\n",
    "\n",
    "print(f\"A randomly selected bird would have the probability of weighing between 140 and 160 grams of: {probability:.4f}\")"
   ]
  },
  {
   "cell_type": "markdown",
   "metadata": {},
   "source": [
    "**Challenge 6**"
   ]
  },
  {
   "cell_type": "markdown",
   "metadata": {},
   "source": [
    "If the lifetime (in hours) of a certain electronic component follows an exponential distribution with a mean lifetime of 50 hours, what is the probability that the component fails within the first 30 hours?"
   ]
  },
  {
   "cell_type": "code",
   "execution_count": null,
   "metadata": {},
   "outputs": [],
   "source": [
    "#code here"
   ]
  }
 ],
 "metadata": {
  "kernelspec": {
   "display_name": "Python [conda env:base] *",
   "language": "python",
   "name": "conda-base-py"
  },
  "language_info": {
   "codemirror_mode": {
    "name": "ipython",
    "version": 3
   },
   "file_extension": ".py",
   "mimetype": "text/x-python",
   "name": "python",
   "nbconvert_exporter": "python",
   "pygments_lexer": "ipython3",
   "version": "3.12.7"
  }
 },
 "nbformat": 4,
 "nbformat_minor": 4
}
